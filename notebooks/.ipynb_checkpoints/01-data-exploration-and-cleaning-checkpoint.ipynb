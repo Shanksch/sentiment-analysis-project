{
 "cells": [
  {
   "cell_type": "code",
   "execution_count": 58,
   "id": "547e77e9-b6bb-4f1c-9564-dc9df1f4dd62",
   "metadata": {},
   "outputs": [
    {
     "name": "stdout",
     "output_type": "stream",
     "text": [
      "Hello, Jupyter! The analysis can now begin.\n"
     ]
    }
   ],
   "source": [
    "print(\"Hello, Jupyter! The analysis can now begin.\")"
   ]
  },
  {
   "cell_type": "code",
   "execution_count": 59,
   "id": "7cb88de6-ddb6-4faa-9f99-c345a1af9acf",
   "metadata": {},
   "outputs": [
    {
     "name": "stdout",
     "output_type": "stream",
     "text": [
      "Dataset loaded successfully into a Pandas DataFrame!\n"
     ]
    }
   ],
   "source": [
    "import pandas as pd\n",
    "file_path = '../data/IMDB Dataset.csv'\n",
    "df = pd.read_csv(file_path)\n",
    "print(\"Dataset loaded successfully into a Pandas DataFrame!\")"
   ]
  },
  {
   "cell_type": "code",
   "execution_count": 60,
   "id": "360179e9-4a9d-4fe4-966b-2d85acb84480",
   "metadata": {},
   "outputs": [
    {
     "data": {
      "text/html": [
       "<div>\n",
       "<style scoped>\n",
       "    .dataframe tbody tr th:only-of-type {\n",
       "        vertical-align: middle;\n",
       "    }\n",
       "\n",
       "    .dataframe tbody tr th {\n",
       "        vertical-align: top;\n",
       "    }\n",
       "\n",
       "    .dataframe thead th {\n",
       "        text-align: right;\n",
       "    }\n",
       "</style>\n",
       "<table border=\"1\" class=\"dataframe\">\n",
       "  <thead>\n",
       "    <tr style=\"text-align: right;\">\n",
       "      <th></th>\n",
       "      <th>review</th>\n",
       "      <th>sentiment</th>\n",
       "    </tr>\n",
       "  </thead>\n",
       "  <tbody>\n",
       "    <tr>\n",
       "      <th>0</th>\n",
       "      <td>One of the other reviewers has mentioned that ...</td>\n",
       "      <td>positive</td>\n",
       "    </tr>\n",
       "    <tr>\n",
       "      <th>1</th>\n",
       "      <td>A wonderful little production. &lt;br /&gt;&lt;br /&gt;The...</td>\n",
       "      <td>positive</td>\n",
       "    </tr>\n",
       "    <tr>\n",
       "      <th>2</th>\n",
       "      <td>I thought this was a wonderful way to spend ti...</td>\n",
       "      <td>positive</td>\n",
       "    </tr>\n",
       "    <tr>\n",
       "      <th>3</th>\n",
       "      <td>Basically there's a family where a little boy ...</td>\n",
       "      <td>negative</td>\n",
       "    </tr>\n",
       "    <tr>\n",
       "      <th>4</th>\n",
       "      <td>Petter Mattei's \"Love in the Time of Money\" is...</td>\n",
       "      <td>positive</td>\n",
       "    </tr>\n",
       "  </tbody>\n",
       "</table>\n",
       "</div>"
      ],
      "text/plain": [
       "                                              review sentiment\n",
       "0  One of the other reviewers has mentioned that ...  positive\n",
       "1  A wonderful little production. <br /><br />The...  positive\n",
       "2  I thought this was a wonderful way to spend ti...  positive\n",
       "3  Basically there's a family where a little boy ...  negative\n",
       "4  Petter Mattei's \"Love in the Time of Money\" is...  positive"
      ]
     },
     "execution_count": 60,
     "metadata": {},
     "output_type": "execute_result"
    }
   ],
   "source": [
    "df.head()"
   ]
  },
  {
   "cell_type": "code",
   "execution_count": 61,
   "id": "cbf1a45e-6f2f-481c-837e-ea8393877d30",
   "metadata": {},
   "outputs": [
    {
     "data": {
      "text/plain": [
       "(50000, 2)"
      ]
     },
     "execution_count": 61,
     "metadata": {},
     "output_type": "execute_result"
    }
   ],
   "source": [
    "df.shape"
   ]
  },
  {
   "cell_type": "code",
   "execution_count": 62,
   "id": "0c5b8f67-dc7b-4055-ac1c-7b15b91dbb4c",
   "metadata": {},
   "outputs": [
    {
     "data": {
      "text/plain": [
       "review       0\n",
       "sentiment    0\n",
       "dtype: int64"
      ]
     },
     "execution_count": 62,
     "metadata": {},
     "output_type": "execute_result"
    }
   ],
   "source": [
    "df.isnull().sum()"
   ]
  },
  {
   "cell_type": "code",
   "execution_count": 63,
   "id": "a56799a9-3397-4326-a826-c2615555d44b",
   "metadata": {},
   "outputs": [
    {
     "data": {
      "text/plain": [
       "sentiment\n",
       "positive    25000\n",
       "negative    25000\n",
       "Name: count, dtype: int64"
      ]
     },
     "execution_count": 63,
     "metadata": {},
     "output_type": "execute_result"
    }
   ],
   "source": [
    "df['sentiment'].value_counts()"
   ]
  },
  {
   "cell_type": "code",
   "execution_count": 64,
   "id": "2bd2f934-b34d-448f-b267-614b3205af85",
   "metadata": {},
   "outputs": [
    {
     "data": {
      "image/png": "[encoded data removed]",
      "text/plain": [
       "<Figure size 600x400 with 1 Axes>"
      ]
     },
     "metadata": {},
     "output_type": "display_data"
    }
   ],
   "source": [
    "import matplotlib.pyplot as plt\n",
    "import seaborn as sns\n",
    "sns.set_style('whitegrid')\n",
    "plt.figure(figsize=(6,4)) # Optional: Adjusts the figure size for better readability\n",
    "sns.countplot(x='sentiment', data=df)\n",
    "plt.title('Class Distribution: Positive vs. Negative Reviews')\n",
    "plt.show()"
   ]
  },
  {
   "cell_type": "code",
   "execution_count": 65,
   "id": "97ce166b-6eda-40dd-8e07-a45180e0ad19",
   "metadata": {},
   "outputs": [
    {
     "name": "stdout",
     "output_type": "stream",
     "text": [
      "Original Text:   This is a GREAT Movie! I REALLY enjoyed it.\n",
      "Lowercased Text: this is a great movie! i really enjoyed it.\n"
     ]
    }
   ],
   "source": [
    "def to_lowercase(text):\n",
    "    return text.lower()\n",
    "example_text = \"This is a GREAT Movie! I REALLY enjoyed it.\"\n",
    "cleaned_text = to_lowercase(example_text)\n",
    "\n",
    "print(\"Original Text:  \", example_text)\n",
    "print(\"Lowercased Text:\", cleaned_text)"
   ]
  },
  {
   "cell_type": "code",
   "execution_count": 66,
   "id": "1bd22128-c55f-4826-b0db-ebaf8e986279",
   "metadata": {},
   "outputs": [
    {
     "name": "stdout",
     "output_type": "stream",
     "text": [
      "DataFrame after applying the lowercase function:\n"
     ]
    },
    {
     "data": {
      "text/html": [
       "<div>\n",
       "<style scoped>\n",
       "    .dataframe tbody tr th:only-of-type {\n",
       "        vertical-align: middle;\n",
       "    }\n",
       "\n",
       "    .dataframe tbody tr th {\n",
       "        vertical-align: top;\n",
       "    }\n",
       "\n",
       "    .dataframe thead th {\n",
       "        text-align: right;\n",
       "    }\n",
       "</style>\n",
       "<table border=\"1\" class=\"dataframe\">\n",
       "  <thead>\n",
       "    <tr style=\"text-align: right;\">\n",
       "      <th></th>\n",
       "      <th>review</th>\n",
       "      <th>sentiment</th>\n",
       "    </tr>\n",
       "  </thead>\n",
       "  <tbody>\n",
       "    <tr>\n",
       "      <th>0</th>\n",
       "      <td>one of the other reviewers has mentioned that ...</td>\n",
       "      <td>positive</td>\n",
       "    </tr>\n",
       "    <tr>\n",
       "      <th>1</th>\n",
       "      <td>a wonderful little production. &lt;br /&gt;&lt;br /&gt;the...</td>\n",
       "      <td>positive</td>\n",
       "    </tr>\n",
       "    <tr>\n",
       "      <th>2</th>\n",
       "      <td>i thought this was a wonderful way to spend ti...</td>\n",
       "      <td>positive</td>\n",
       "    </tr>\n",
       "    <tr>\n",
       "      <th>3</th>\n",
       "      <td>basically there's a family where a little boy ...</td>\n",
       "      <td>negative</td>\n",
       "    </tr>\n",
       "    <tr>\n",
       "      <th>4</th>\n",
       "      <td>petter mattei's \"love in the time of money\" is...</td>\n",
       "      <td>positive</td>\n",
       "    </tr>\n",
       "  </tbody>\n",
       "</table>\n",
       "</div>"
      ],
      "text/plain": [
       "                                              review sentiment\n",
       "0  one of the other reviewers has mentioned that ...  positive\n",
       "1  a wonderful little production. <br /><br />the...  positive\n",
       "2  i thought this was a wonderful way to spend ti...  positive\n",
       "3  basically there's a family where a little boy ...  negative\n",
       "4  petter mattei's \"love in the time of money\" is...  positive"
      ]
     },
     "execution_count": 66,
     "metadata": {},
     "output_type": "execute_result"
    }
   ],
   "source": [
    "df['review'] = df['review'].apply(to_lowercase)\n",
    "print(\"DataFrame after applying the lowercase function:\")\n",
    "df.head()"
   ]
  },
  {
   "cell_type": "code",
   "execution_count": 67,
   "id": "078b0922-8eb2-4ab8-b9e8-52c80cafed97",
   "metadata": {},
   "outputs": [
    {
     "name": "stdout",
     "output_type": "stream",
     "text": [
      "Original Text with HTML:   this was an <i>amazing</i> movie. i loved it! <br /><br />totally <b>worth</b> watching.\n",
      "Text after HTML removal: this was an amazing movie. i loved it! totally worth watching.\n"
     ]
    }
   ],
   "source": [
    "import re\n",
    "def remove_html_tags(text):\n",
    "    pattern = re.compile('<.*?>')\n",
    "    return pattern.sub('', text)\n",
    "example_text_with_html = \"this was an <i>amazing</i> movie. i loved it! <br /><br />totally <b>worth</b> watching.\"\n",
    "cleaned_text = remove_html_tags(example_text_with_html)\n",
    "\n",
    "print(\"Original Text with HTML:  \", example_text_with_html)\n",
    "print(\"Text after HTML removal:\", cleaned_text)"
   ]
  },
  {
   "cell_type": "code",
   "execution_count": 68,
   "id": "5a786750-a42f-4c77-b155-257f812cf6d8",
   "metadata": {},
   "outputs": [
    {
     "name": "stdout",
     "output_type": "stream",
     "text": [
      "DataFrame after removing HTML tags:\n"
     ]
    },
    {
     "data": {
      "text/html": [
       "<div>\n",
       "<style scoped>\n",
       "    .dataframe tbody tr th:only-of-type {\n",
       "        vertical-align: middle;\n",
       "    }\n",
       "\n",
       "    .dataframe tbody tr th {\n",
       "        vertical-align: top;\n",
       "    }\n",
       "\n",
       "    .dataframe thead th {\n",
       "        text-align: right;\n",
       "    }\n",
       "</style>\n",
       "<table border=\"1\" class=\"dataframe\">\n",
       "  <thead>\n",
       "    <tr style=\"text-align: right;\">\n",
       "      <th></th>\n",
       "      <th>review</th>\n",
       "      <th>sentiment</th>\n",
       "    </tr>\n",
       "  </thead>\n",
       "  <tbody>\n",
       "    <tr>\n",
       "      <th>0</th>\n",
       "      <td>one of the other reviewers has mentioned that ...</td>\n",
       "      <td>positive</td>\n",
       "    </tr>\n",
       "    <tr>\n",
       "      <th>1</th>\n",
       "      <td>a wonderful little production. the filming tec...</td>\n",
       "      <td>positive</td>\n",
       "    </tr>\n",
       "    <tr>\n",
       "      <th>2</th>\n",
       "      <td>i thought this was a wonderful way to spend ti...</td>\n",
       "      <td>positive</td>\n",
       "    </tr>\n",
       "    <tr>\n",
       "      <th>3</th>\n",
       "      <td>basically there's a family where a little boy ...</td>\n",
       "      <td>negative</td>\n",
       "    </tr>\n",
       "    <tr>\n",
       "      <th>4</th>\n",
       "      <td>petter mattei's \"love in the time of money\" is...</td>\n",
       "      <td>positive</td>\n",
       "    </tr>\n",
       "  </tbody>\n",
       "</table>\n",
       "</div>"
      ],
      "text/plain": [
       "                                              review sentiment\n",
       "0  one of the other reviewers has mentioned that ...  positive\n",
       "1  a wonderful little production. the filming tec...  positive\n",
       "2  i thought this was a wonderful way to spend ti...  positive\n",
       "3  basically there's a family where a little boy ...  negative\n",
       "4  petter mattei's \"love in the time of money\" is...  positive"
      ]
     },
     "execution_count": 68,
     "metadata": {},
     "output_type": "execute_result"
    }
   ],
   "source": [
    "df['review'] = df['review'].apply(remove_html_tags)\n",
    "print(\"DataFrame after removing HTML tags:\")\n",
    "df.head()"
   ]
  },
  {
   "cell_type": "code",
   "execution_count": 69,
   "id": "0c067f0b-16f8-42e2-9ece-a8e270c4f05b",
   "metadata": {},
   "outputs": [
    {
     "name": "stdout",
     "output_type": "stream",
     "text": [
      "Original Text with Punctuation:  wow... this movie was *amazing*! (10/10). i'd say it's a 'must-see'.\n",
      "Text after Punctuation Removal: wow    this movie was  amazing    10 10   i d say it s a  must see\n"
     ]
    }
   ],
   "source": [
    "import re\n",
    "def remove_punctuation(text):\n",
    "    return re.sub(r'[^a-z0-9\\s]', ' ', text).strip()\n",
    "example_text_with_punc = \"wow... this movie was *amazing*! (10/10). i'd say it's a 'must-see'.\"\n",
    "cleaned_text = remove_punctuation(example_text_with_punc)\n",
    "\n",
    "print(\"Original Text with Punctuation: \", example_text_with_punc)\n",
    "print(\"Text after Punctuation Removal:\", cleaned_text)"
   ]
  },
  {
   "cell_type": "code",
   "execution_count": 70,
   "id": "5e593e20-6442-4f8e-8fac-6b022017f99a",
   "metadata": {},
   "outputs": [],
   "source": [
    "df['review'] = df['review'].apply(remove_punctuation)"
   ]
  },
  {
   "cell_type": "code",
   "execution_count": 71,
   "id": "549b5e2d-f45b-4d45-b1c3-d7f03b9fffbd",
   "metadata": {},
   "outputs": [
    {
     "name": "stdout",
     "output_type": "stream",
     "text": [
      "DataFrame after removing punctuation:\n"
     ]
    },
    {
     "data": {
      "text/html": [
       "<div>\n",
       "<style scoped>\n",
       "    .dataframe tbody tr th:only-of-type {\n",
       "        vertical-align: middle;\n",
       "    }\n",
       "\n",
       "    .dataframe tbody tr th {\n",
       "        vertical-align: top;\n",
       "    }\n",
       "\n",
       "    .dataframe thead th {\n",
       "        text-align: right;\n",
       "    }\n",
       "</style>\n",
       "<table border=\"1\" class=\"dataframe\">\n",
       "  <thead>\n",
       "    <tr style=\"text-align: right;\">\n",
       "      <th></th>\n",
       "      <th>review</th>\n",
       "      <th>sentiment</th>\n",
       "    </tr>\n",
       "  </thead>\n",
       "  <tbody>\n",
       "    <tr>\n",
       "      <th>0</th>\n",
       "      <td>one of the other reviewers has mentioned that ...</td>\n",
       "      <td>positive</td>\n",
       "    </tr>\n",
       "    <tr>\n",
       "      <th>1</th>\n",
       "      <td>a wonderful little production  the filming tec...</td>\n",
       "      <td>positive</td>\n",
       "    </tr>\n",
       "    <tr>\n",
       "      <th>2</th>\n",
       "      <td>i thought this was a wonderful way to spend ti...</td>\n",
       "      <td>positive</td>\n",
       "    </tr>\n",
       "    <tr>\n",
       "      <th>3</th>\n",
       "      <td>basically there s a family where a little boy ...</td>\n",
       "      <td>negative</td>\n",
       "    </tr>\n",
       "    <tr>\n",
       "      <th>4</th>\n",
       "      <td>petter mattei s  love in the time of money  is...</td>\n",
       "      <td>positive</td>\n",
       "    </tr>\n",
       "  </tbody>\n",
       "</table>\n",
       "</div>"
      ],
      "text/plain": [
       "                                              review sentiment\n",
       "0  one of the other reviewers has mentioned that ...  positive\n",
       "1  a wonderful little production  the filming tec...  positive\n",
       "2  i thought this was a wonderful way to spend ti...  positive\n",
       "3  basically there s a family where a little boy ...  negative\n",
       "4  petter mattei s  love in the time of money  is...  positive"
      ]
     },
     "execution_count": 71,
     "metadata": {},
     "output_type": "execute_result"
    }
   ],
   "source": [
    "print(\"DataFrame after removing punctuation:\")\n",
    "df.head()"
   ]
  },
  {
   "cell_type": "code",
   "execution_count": 72,
   "id": "b777c020-8ed9-4a47-81e0-506c9893c38f",
   "metadata": {},
   "outputs": [
    {
     "name": "stderr",
     "output_type": "stream",
     "text": [
      "[nltk_data] Downloading package stopwords to\n",
      "[nltk_data]     C:\\Users\\shash\\AppData\\Roaming\\nltk_data...\n",
      "[nltk_data]   Package stopwords is already up-to-date!\n"
     ]
    },
    {
     "data": {
      "text/plain": [
       "True"
      ]
     },
     "execution_count": 72,
     "metadata": {},
     "output_type": "execute_result"
    }
   ],
   "source": [
    "import nltk\n",
    "nltk.download('stopwords')"
   ]
  },
  {
   "cell_type": "code",
   "execution_count": 73,
   "id": "ad00c0e2-72b4-4b7f-a256-469bf516e3ee",
   "metadata": {},
   "outputs": [
    {
     "name": "stdout",
     "output_type": "stream",
     "text": [
      "--- First 10 Stopwords from NLTK List ---\n",
      "['a', 'about', 'above', 'after', 'again', 'against', 'ain', 'all', 'am', 'an']\n",
      "\n",
      "==================================================\n",
      "\n",
      "We have successfully loaded 198 English stopwords into a highly efficient set.\n"
     ]
    }
   ],
   "source": [
    "from nltk.corpus import stopwords\n",
    "english_stopwords_list = stopwords.words('english')\n",
    "print(\"--- First 10 Stopwords from NLTK List ---\")\n",
    "print(english_stopwords_list[:10])\n",
    "print(\"\\n\" + \"=\"*50 + \"\\n\")\n",
    "stop_words_set = set(english_stopwords_list)\n",
    "print(f\"We have successfully loaded {len(stop_words_set)} English stopwords into a highly efficient set.\")"
   ]
  },
  {
   "cell_type": "code",
   "execution_count": 74,
   "id": "67a3d10c-e13c-4513-8015-6f53e62c0e70",
   "metadata": {},
   "outputs": [
    {
     "name": "stdout",
     "output_type": "stream",
     "text": [
      "Original Sentence: this movie is just a brilliant and beautiful production\n",
      "Tokens after Stopword Removal: ['movie', 'brilliant', 'beautiful', 'production']\n"
     ]
    }
   ],
   "source": [
    "def tokenize_and_remove_stopwords(text):\n",
    "    tokens = text.split()\n",
    "    cleaned_tokens = [token for token in tokens if token not in stop_words_set]\n",
    "    return cleaned_tokens\n",
    "example_sentence = \"this movie is just a brilliant and beautiful production\"\n",
    "cleaned_tokens_list = tokenize_and_remove_stopwords(example_sentence)\n",
    "\n",
    "print(\"Original Sentence:\", example_sentence)\n",
    "print(\"Tokens after Stopword Removal:\", cleaned_tokens_list)"
   ]
  },
  {
   "cell_type": "code",
   "execution_count": 75,
   "id": "5fb78cb7-3971-4a23-b7f2-9fa47b80d61e",
   "metadata": {},
   "outputs": [
    {
     "name": "stdout",
     "output_type": "stream",
     "text": [
      "DataFrame after tokenization and stopword removal:\n"
     ]
    },
    {
     "data": {
      "text/html": [
       "<div>\n",
       "<style scoped>\n",
       "    .dataframe tbody tr th:only-of-type {\n",
       "        vertical-align: middle;\n",
       "    }\n",
       "\n",
       "    .dataframe tbody tr th {\n",
       "        vertical-align: top;\n",
       "    }\n",
       "\n",
       "    .dataframe thead th {\n",
       "        text-align: right;\n",
       "    }\n",
       "</style>\n",
       "<table border=\"1\" class=\"dataframe\">\n",
       "  <thead>\n",
       "    <tr style=\"text-align: right;\">\n",
       "      <th></th>\n",
       "      <th>review</th>\n",
       "      <th>sentiment</th>\n",
       "    </tr>\n",
       "  </thead>\n",
       "  <tbody>\n",
       "    <tr>\n",
       "      <th>0</th>\n",
       "      <td>[one, reviewers, mentioned, watching, 1, oz, e...</td>\n",
       "      <td>positive</td>\n",
       "    </tr>\n",
       "    <tr>\n",
       "      <th>1</th>\n",
       "      <td>[wonderful, little, production, filming, techn...</td>\n",
       "      <td>positive</td>\n",
       "    </tr>\n",
       "    <tr>\n",
       "      <th>2</th>\n",
       "      <td>[thought, wonderful, way, spend, time, hot, su...</td>\n",
       "      <td>positive</td>\n",
       "    </tr>\n",
       "    <tr>\n",
       "      <th>3</th>\n",
       "      <td>[basically, family, little, boy, jake, thinks,...</td>\n",
       "      <td>negative</td>\n",
       "    </tr>\n",
       "    <tr>\n",
       "      <th>4</th>\n",
       "      <td>[petter, mattei, love, time, money, visually, ...</td>\n",
       "      <td>positive</td>\n",
       "    </tr>\n",
       "  </tbody>\n",
       "</table>\n",
       "</div>"
      ],
      "text/plain": [
       "                                              review sentiment\n",
       "0  [one, reviewers, mentioned, watching, 1, oz, e...  positive\n",
       "1  [wonderful, little, production, filming, techn...  positive\n",
       "2  [thought, wonderful, way, spend, time, hot, su...  positive\n",
       "3  [basically, family, little, boy, jake, thinks,...  negative\n",
       "4  [petter, mattei, love, time, money, visually, ...  positive"
      ]
     },
     "execution_count": 75,
     "metadata": {},
     "output_type": "execute_result"
    }
   ],
   "source": [
    "df['review'] = df['review'].apply(tokenize_and_remove_stopwords)\n",
    "print(\"DataFrame after tokenization and stopword removal:\")\n",
    "df.head()"
   ]
  },
  {
   "cell_type": "code",
   "execution_count": 76,
   "id": "2aac5606-bf19-4e07-b064-ccaca8c5e045",
   "metadata": {},
   "outputs": [
    {
     "name": "stderr",
     "output_type": "stream",
     "text": [
      "[nltk_data] Downloading package wordnet to\n",
      "[nltk_data]     C:\\Users\\shash\\AppData\\Roaming\\nltk_data...\n",
      "[nltk_data]   Package wordnet is already up-to-date!\n"
     ]
    },
    {
     "data": {
      "text/plain": [
       "True"
      ]
     },
     "execution_count": 76,
     "metadata": {},
     "output_type": "execute_result"
    }
   ],
   "source": [
    "import nltk\n",
    "nltk.download('wordnet')"
   ]
  },
  {
   "cell_type": "code",
   "execution_count": 77,
   "id": "09dc2b44-18b4-41c4-820f-63ba6b81b63f",
   "metadata": {},
   "outputs": [
    {
     "name": "stdout",
     "output_type": "stream",
     "text": [
      "The lemma for 'movies' is: movie\n",
      "The lemma for 'running' is: running\n"
     ]
    }
   ],
   "source": [
    "from nltk.stem import WordNetLemmatizer\n",
    "lemmatizer = WordNetLemmatizer()\n",
    "print(f\"The lemma for 'movies' is: {lemmatizer.lemmatize('movies')}\")\n",
    "print(f\"The lemma for 'running' is: {lemmatizer.lemmatize('running')}\")"
   ]
  },
  {
   "cell_type": "code",
   "execution_count": 78,
   "id": "17114e91-3255-42f3-9484-c376cd21a6cd",
   "metadata": {},
   "outputs": [
    {
     "name": "stdout",
     "output_type": "stream",
     "text": [
      "Original Tokens: ['movies', 'are', 'amazing', 'characters', 'were', 'running', 'studies']\n",
      "Lemmatized Tokens: ['movie', 'are', 'amazing', 'character', 'were', 'running', 'study']\n"
     ]
    }
   ],
   "source": [
    "def lemmatize_tokens(tokens):\n",
    "    lemmatized_tokens = [lemmatizer.lemmatize(token) for token in tokens]\n",
    "    return lemmatized_tokens\n",
    "example_tokens = ['movies', 'are', 'amazing', 'characters', 'were', 'running', 'studies']\n",
    "lemmatized_example = lemmatize_tokens(example_tokens)\n",
    "\n",
    "print(\"Original Tokens:\", example_tokens)\n",
    "print(\"Lemmatized Tokens:\", lemmatized_example)\n"
   ]
  },
  {
   "cell_type": "code",
   "execution_count": 79,
   "id": "75e24170-f43d-44b6-9d57-b163e18d278d",
   "metadata": {},
   "outputs": [
    {
     "name": "stdout",
     "output_type": "stream",
     "text": [
      "DataFrame after applying the lemmatization function:\n"
     ]
    },
    {
     "data": {
      "text/html": [
       "<div>\n",
       "<style scoped>\n",
       "    .dataframe tbody tr th:only-of-type {\n",
       "        vertical-align: middle;\n",
       "    }\n",
       "\n",
       "    .dataframe tbody tr th {\n",
       "        vertical-align: top;\n",
       "    }\n",
       "\n",
       "    .dataframe thead th {\n",
       "        text-align: right;\n",
       "    }\n",
       "</style>\n",
       "<table border=\"1\" class=\"dataframe\">\n",
       "  <thead>\n",
       "    <tr style=\"text-align: right;\">\n",
       "      <th></th>\n",
       "      <th>review</th>\n",
       "      <th>sentiment</th>\n",
       "    </tr>\n",
       "  </thead>\n",
       "  <tbody>\n",
       "    <tr>\n",
       "      <th>0</th>\n",
       "      <td>[one, reviewer, mentioned, watching, 1, oz, ep...</td>\n",
       "      <td>positive</td>\n",
       "    </tr>\n",
       "    <tr>\n",
       "      <th>1</th>\n",
       "      <td>[wonderful, little, production, filming, techn...</td>\n",
       "      <td>positive</td>\n",
       "    </tr>\n",
       "    <tr>\n",
       "      <th>2</th>\n",
       "      <td>[thought, wonderful, way, spend, time, hot, su...</td>\n",
       "      <td>positive</td>\n",
       "    </tr>\n",
       "    <tr>\n",
       "      <th>3</th>\n",
       "      <td>[basically, family, little, boy, jake, think, ...</td>\n",
       "      <td>negative</td>\n",
       "    </tr>\n",
       "    <tr>\n",
       "      <th>4</th>\n",
       "      <td>[petter, mattei, love, time, money, visually, ...</td>\n",
       "      <td>positive</td>\n",
       "    </tr>\n",
       "  </tbody>\n",
       "</table>\n",
       "</div>"
      ],
      "text/plain": [
       "                                              review sentiment\n",
       "0  [one, reviewer, mentioned, watching, 1, oz, ep...  positive\n",
       "1  [wonderful, little, production, filming, techn...  positive\n",
       "2  [thought, wonderful, way, spend, time, hot, su...  positive\n",
       "3  [basically, family, little, boy, jake, think, ...  negative\n",
       "4  [petter, mattei, love, time, money, visually, ...  positive"
      ]
     },
     "execution_count": 79,
     "metadata": {},
     "output_type": "execute_result"
    }
   ],
   "source": [
    "df['review'] = df['review'].apply(lemmatize_tokens)\n",
    "print(\"DataFrame after applying the lemmatization function:\")\n",
    "df.head()"
   ]
  },
  {
   "cell_type": "code",
   "execution_count": 80,
   "id": "3fe3a52e-66a5-4dfa-8846-1d33fa539c50",
   "metadata": {},
   "outputs": [
    {
     "name": "stdout",
     "output_type": "stream",
     "text": [
      "Original list of tokens: ['movie', 'brilliant', 'beautiful', 'production', 'character', 'scene']\n",
      "Rejoined string: movie brilliant beautiful production character scene\n"
     ]
    }
   ],
   "source": [
    "def join_tokens(tokens):\n",
    "    return ' '.join(tokens)\n",
    "example_lemmatized_tokens = ['movie', 'brilliant', 'beautiful', 'production', 'character', 'scene']\n",
    "rejoined_text = join_tokens(example_lemmatized_tokens)\n",
    "\n",
    "print(\"Original list of tokens:\", example_lemmatized_tokens)\n",
    "print(\"Rejoined string:\", rejoined_text)"
   ]
  },
  {
   "cell_type": "code",
   "execution_count": 81,
   "id": "bd0d2946-87fa-4cfe-bb50-82be1c3ed2cb",
   "metadata": {},
   "outputs": [
    {
     "name": "stdout",
     "output_type": "stream",
     "text": [
      "DataFrame after final cleaning and rejoining tokens:\n"
     ]
    },
    {
     "data": {
      "text/html": [
       "<div>\n",
       "<style scoped>\n",
       "    .dataframe tbody tr th:only-of-type {\n",
       "        vertical-align: middle;\n",
       "    }\n",
       "\n",
       "    .dataframe tbody tr th {\n",
       "        vertical-align: top;\n",
       "    }\n",
       "\n",
       "    .dataframe thead th {\n",
       "        text-align: right;\n",
       "    }\n",
       "</style>\n",
       "<table border=\"1\" class=\"dataframe\">\n",
       "  <thead>\n",
       "    <tr style=\"text-align: right;\">\n",
       "      <th></th>\n",
       "      <th>review</th>\n",
       "      <th>cleaned_review</th>\n",
       "      <th>sentiment</th>\n",
       "    </tr>\n",
       "  </thead>\n",
       "  <tbody>\n",
       "    <tr>\n",
       "      <th>0</th>\n",
       "      <td>[one, reviewer, mentioned, watching, 1, oz, ep...</td>\n",
       "      <td>one reviewer mentioned watching 1 oz episode h...</td>\n",
       "      <td>positive</td>\n",
       "    </tr>\n",
       "    <tr>\n",
       "      <th>1</th>\n",
       "      <td>[wonderful, little, production, filming, techn...</td>\n",
       "      <td>wonderful little production filming technique ...</td>\n",
       "      <td>positive</td>\n",
       "    </tr>\n",
       "    <tr>\n",
       "      <th>2</th>\n",
       "      <td>[thought, wonderful, way, spend, time, hot, su...</td>\n",
       "      <td>thought wonderful way spend time hot summer we...</td>\n",
       "      <td>positive</td>\n",
       "    </tr>\n",
       "    <tr>\n",
       "      <th>3</th>\n",
       "      <td>[basically, family, little, boy, jake, think, ...</td>\n",
       "      <td>basically family little boy jake think zombie ...</td>\n",
       "      <td>negative</td>\n",
       "    </tr>\n",
       "    <tr>\n",
       "      <th>4</th>\n",
       "      <td>[petter, mattei, love, time, money, visually, ...</td>\n",
       "      <td>petter mattei love time money visually stunnin...</td>\n",
       "      <td>positive</td>\n",
       "    </tr>\n",
       "  </tbody>\n",
       "</table>\n",
       "</div>"
      ],
      "text/plain": [
       "                                              review  \\\n",
       "0  [one, reviewer, mentioned, watching, 1, oz, ep...   \n",
       "1  [wonderful, little, production, filming, techn...   \n",
       "2  [thought, wonderful, way, spend, time, hot, su...   \n",
       "3  [basically, family, little, boy, jake, think, ...   \n",
       "4  [petter, mattei, love, time, money, visually, ...   \n",
       "\n",
       "                                      cleaned_review sentiment  \n",
       "0  one reviewer mentioned watching 1 oz episode h...  positive  \n",
       "1  wonderful little production filming technique ...  positive  \n",
       "2  thought wonderful way spend time hot summer we...  positive  \n",
       "3  basically family little boy jake think zombie ...  negative  \n",
       "4  petter mattei love time money visually stunnin...  positive  "
      ]
     },
     "execution_count": 81,
     "metadata": {},
     "output_type": "execute_result"
    }
   ],
   "source": [
    "df['cleaned_review'] = df['review'].apply(join_tokens)\n",
    "print(\"DataFrame after final cleaning and rejoining tokens:\")\n",
    "df[['review', 'cleaned_review', 'sentiment']].head()"
   ]
  },
  {
   "cell_type": "code",
   "execution_count": 82,
   "id": "25cc8b53-1984-4569-9c5e-548078295114",
   "metadata": {},
   "outputs": [
    {
     "name": "stdout",
     "output_type": "stream",
     "text": [
      "--- Features (X) ---\n",
      "49995    thought movie right good job creative original...\n",
      "49996    bad plot bad dialogue bad acting idiotic direc...\n",
      "49997    catholic taught parochial elementary school nu...\n",
      "49998    going disagree previous comment side maltin on...\n",
      "49999    one expects star trek movie high art fan expec...\n",
      "Name: cleaned_review, dtype: object\n",
      "\n",
      "==================================================\n",
      "\n",
      "--- Target (y) ---\n",
      "49995    positive\n",
      "49996    negative\n",
      "49997    negative\n",
      "49998    negative\n",
      "49999    negative\n",
      "Name: sentiment, dtype: object\n"
     ]
    }
   ],
   "source": [
    "X = df['cleaned_review']\n",
    "\n",
    "# Target (y): We select the 'sentiment' column. This is the label (positive/negative)\n",
    "y = df['sentiment']\n",
    "\n",
    "# Let's inspect the first few entries of both our new variables to ensure they contain the correct data.\n",
    "print(\"--- Features (X) ---\")\n",
    "print(X.tail())\n",
    "print(\"\\n\" + \"=\"*50 + \"\\n\") # A clean separator\n",
    "print(\"--- Target (y) ---\")\n",
    "print(y.tail())"
   ]
  },
  {
   "cell_type": "code",
   "execution_count": 83,
   "id": "84740362-0632-4f77-9c04-d5fe672849d9",
   "metadata": {},
   "outputs": [
    {
     "name": "stdout",
     "output_type": "stream",
     "text": [
      "Shape of X_train: (40000,)\n",
      "Shape of X_test: (10000,)\n",
      "Shape of y_train: (40000,)\n",
      "Shape of y_test: (10000,)\n"
     ]
    }
   ],
   "source": [
    "from sklearn.model_selection import train_test_split\n",
    "X_train, X_test, y_train, y_test = train_test_split(X, y, test_size=0.2, random_state=42, stratify=y)\n",
    "print(\"Shape of X_train:\", X_train.shape)\n",
    "print(\"Shape of X_test:\", X_test.shape)\n",
    "print(\"Shape of y_train:\", y_train.shape)\n",
    "print(\"Shape of y_test:\", y_test.shape)"
   ]
  },
  {
   "cell_type": "code",
   "execution_count": 84,
   "id": "66b49c23-f42a-45e0-9762-8f4e5821fe99",
   "metadata": {},
   "outputs": [
    {
     "name": "stdout",
     "output_type": "stream",
     "text": [
      "TfidfVectorizer initialized successfully:\n",
      "TfidfVectorizer(max_features=11000)\n"
     ]
    }
   ],
   "source": [
    "from sklearn.feature_extraction.text import TfidfVectorizer\n",
    "tfidf_vectorizer = TfidfVectorizer(max_features=11000)\n",
    "print(\"TfidfVectorizer initialized successfully:\")\n",
    "print(tfidf_vectorizer)"
   ]
  },
  {
   "cell_type": "code",
   "execution_count": 85,
   "id": "62db0940-6bd2-481f-8a94-8a88e708bfa1",
   "metadata": {},
   "outputs": [
    {
     "name": "stdout",
     "output_type": "stream",
     "text": [
      "Successfully fitted the vectorizer and transformed the training data.\n"
     ]
    }
   ],
   "source": [
    "X_train_tfidf = tfidf_vectorizer.fit_transform(X_train)\n",
    "print(\"Successfully fitted the vectorizer and transformed the training data.\")"
   ]
  },
  {
   "cell_type": "code",
   "execution_count": 86,
   "id": "4d5deeab-ef45-4bb6-9ed4-6e7a344395c9",
   "metadata": {},
   "outputs": [
    {
     "name": "stdout",
     "output_type": "stream",
     "text": [
      "Successfully transformed the testing data.\n"
     ]
    }
   ],
   "source": [
    "# using the vocabulary and IDF weights learned from X_train.\n",
    "X_test_tfidf = tfidf_vectorizer.transform(X_test)\n",
    "print(\"Successfully transformed the testing data.\")"
   ]
  },
  {
   "cell_type": "code",
   "execution_count": 87,
   "id": "64c5591f-844c-4be1-9d5b-fa8c0c3e11c8",
   "metadata": {},
   "outputs": [
    {
     "name": "stdout",
     "output_type": "stream",
     "text": [
      "Shape of the TF-IDF training data matrix (X_train_tfidf): (40000, 11000)\n",
      "Shape of the TF-IDF testing data matrix (X_test_tfidf): (10000, 11000)\n"
     ]
    }
   ],
   "source": [
    "print(\"Shape of the TF-IDF training data matrix (X_train_tfidf):\", X_train_tfidf.shape)\n",
    "print(\"Shape of the TF-IDF testing data matrix (X_test_tfidf):\", X_test_tfidf.shape)"
   ]
  },
  {
   "cell_type": "code",
   "execution_count": 88,
   "id": "b52c2e99-c6da-4559-b857-47483440fbc4",
   "metadata": {},
   "outputs": [
    {
     "name": "stdout",
     "output_type": "stream",
     "text": [
      "Logistic Regression model initialized successfully:\n",
      "LogisticRegression(random_state=42)\n",
      "The Logistic Regression model has been successfully trained.\n"
     ]
    }
   ],
   "source": [
    "from sklearn.linear_model import LogisticRegression\n",
    "lr_model = LogisticRegression(random_state=42)\n",
    "print(\"Logistic Regression model initialized successfully:\")\n",
    "print(lr_model)\n",
    "lr_model.fit(X_train_tfidf, y_train)\n",
    "print(\"The Logistic Regression model has been successfully trained.\")"
   ]
  },
  {
   "cell_type": "code",
   "execution_count": 89,
   "id": "01775ccb-3633-4a4a-a08a-8f6839c46a30",
   "metadata": {},
   "outputs": [
    {
     "name": "stdout",
     "output_type": "stream",
     "text": [
      "First 20 predictions made by the model:\n",
      "['negative' 'negative' 'positive' 'negative' 'negative' 'negative'\n",
      " 'negative' 'negative' 'negative' 'negative' 'negative' 'positive'\n",
      " 'positive' 'negative' 'positive' 'positive' 'positive' 'positive'\n",
      " 'positive' 'positive']\n",
      "\n",
      "==================================================\n",
      "\n",
      "Comparison of first 5 Predictions vs. Actual Labels:\n",
      "Predictions: ['negative' 'negative' 'positive' 'negative' 'negative']\n",
      "Actuals:     ['negative' 'negative' 'positive' 'negative' 'negative']\n"
     ]
    }
   ],
   "source": [
    "y_pred = lr_model.predict(X_test_tfidf)\n",
    "print(\"First 20 predictions made by the model:\")\n",
    "print(y_pred[:20])\n",
    "print(\"\\n\" + \"=\"*50 + \"\\n\")\n",
    "print(\"Comparison of first 5 Predictions vs. Actual Labels:\")\n",
    "print(\"Predictions:\", y_pred[:5])\n",
    "print(\"Actuals:    \", y_test.values[:5])"
   ]
  },
  {
   "cell_type": "code",
   "execution_count": 90,
   "id": "313b6007-8bde-43b8-8d8a-09dab87ccb2a",
   "metadata": {},
   "outputs": [
    {
     "name": "stdout",
     "output_type": "stream",
     "text": [
      "              precision    recall  f1-score   support\n",
      "\n",
      "    negative       0.90      0.88      0.89      5000\n",
      "    positive       0.88      0.91      0.90      5000\n",
      "\n",
      "    accuracy                           0.89     10000\n",
      "   macro avg       0.89      0.89      0.89     10000\n",
      "weighted avg       0.89      0.89      0.89     10000\n",
      "\n"
     ]
    }
   ],
   "source": [
    "from sklearn.metrics import classification_report, confusion_matrix\n",
    "#checking the score of model's performance\n",
    "report = classification_report(y_test, y_pred)\n",
    "print(report)"
   ]
  },
  {
   "cell_type": "code",
   "execution_count": 91,
   "id": "44dd9bc9-9e39-4c64-96bf-3f73b0cb0061",
   "metadata": {},
   "outputs": [
    {
     "name": "stdout",
     "output_type": "stream",
     "text": [
      "Confusion Matrix:\n",
      "[[4408  592]\n",
      " [ 463 4537]]\n"
     ]
    }
   ],
   "source": [
    "cm = confusion_matrix(y_test, y_pred)\n",
    "print(\"Confusion Matrix:\")\n",
    "print(cm)"
   ]
  },
  {
   "cell_type": "code",
   "execution_count": 92,
   "id": "c33e1add-5fb8-4191-a7e5-c5f68df43c18",
   "metadata": {},
   "outputs": [
    {
     "data": {
      "image/png": "[encoded data removed]",
      "text/plain": [
       "<Figure size 600x500 with 2 Axes>"
      ]
     },
     "metadata": {},
     "output_type": "display_data"
    }
   ],
   "source": [
    "import matplotlib.pyplot as plt\n",
    "import seaborn as sns\n",
    "class_names = ['Negative', 'Positive']\n",
    "plt.figure(figsize=(6, 5))\n",
    "sns.heatmap(cm, annot=True, fmt='d', cmap='Blues', xticklabels=class_names, yticklabels=class_names)\n",
    "plt.xlabel('Predicted Label')\n",
    "plt.ylabel('True Label')\n",
    "plt.title('Confusion Matrix for Logistic Regression Model')\n",
    "plt.show()"
   ]
  },
  {
   "cell_type": "code",
   "execution_count": 93,
   "id": "8f2e69f4-66a8-4660-ac78-bfeeb1986e7f",
   "metadata": {},
   "outputs": [
    {
     "name": "stdout",
     "output_type": "stream",
     "text": [
      "Model saved successfully to 'lr_model.pkl'\n"
     ]
    }
   ],
   "source": [
    "import joblib\n",
    "model_filename = 'lr_model.pkl'\n",
    "joblib.dump(lr_model, model_filename)\n",
    "print(f\"Model saved successfully to '{model_filename}'\")"
   ]
  },
  {
   "cell_type": "code",
   "execution_count": 94,
   "id": "ea274b29-efe7-42ac-a0ff-a5b4964b2a3a",
   "metadata": {},
   "outputs": [
    {
     "name": "stdout",
     "output_type": "stream",
     "text": [
      "Vectorizer saved successfully to {vectorizer_filename}\n"
     ]
    }
   ],
   "source": [
    "vectorizer_filename = 'tfidf_vectorizer.pkl'\n",
    "joblib.dump(tfidf_vectorizer, vectorizer_filename)\n",
    "print(\"Vectorizer saved successfully to {vectorizer_filename}\")"
   ]
  },
  {
   "cell_type": "code",
   "execution_count": 95,
   "id": "50620cf8-0dec-4690-9891-21a285431c44",
   "metadata": {},
   "outputs": [
    {
     "name": "stdout",
     "output_type": "stream",
     "text": [
      "Requirement already satisfied: tensorflow in c:\\users\\shash\\onedrive\\desktop\\developer projects\\sentiment-analysis-project\\sap-venv\\lib\\site-packages (2.20.0)\n",
      "Requirement already satisfied: absl-py>=1.0.0 in c:\\users\\shash\\onedrive\\desktop\\developer projects\\sentiment-analysis-project\\sap-venv\\lib\\site-packages (from tensorflow) (2.3.1)\n",
      "Requirement already satisfied: astunparse>=1.6.0 in c:\\users\\shash\\onedrive\\desktop\\developer projects\\sentiment-analysis-project\\sap-venv\\lib\\site-packages (from tensorflow) (1.6.3)\n",
      "Requirement already satisfied: flatbuffers>=24.3.25 in c:\\users\\shash\\onedrive\\desktop\\developer projects\\sentiment-analysis-project\\sap-venv\\lib\\site-packages (from tensorflow) (25.2.10)\n",
      "Requirement already satisfied: gast!=0.5.0,!=0.5.1,!=0.5.2,>=0.2.1 in c:\\users\\shash\\onedrive\\desktop\\developer projects\\sentiment-analysis-project\\sap-venv\\lib\\site-packages (from tensorflow) (0.6.0)\n",
      "Requirement already satisfied: google_pasta>=0.1.1 in c:\\users\\shash\\onedrive\\desktop\\developer projects\\sentiment-analysis-project\\sap-venv\\lib\\site-packages (from tensorflow) (0.2.0)\n",
      "Requirement already satisfied: libclang>=13.0.0 in c:\\users\\shash\\onedrive\\desktop\\developer projects\\sentiment-analysis-project\\sap-venv\\lib\\site-packages (from tensorflow) (18.1.1)\n",
      "Requirement already satisfied: opt_einsum>=2.3.2 in c:\\users\\shash\\onedrive\\desktop\\developer projects\\sentiment-analysis-project\\sap-venv\\lib\\site-packages (from tensorflow) (3.4.0)\n",
      "Requirement already satisfied: packaging in c:\\users\\shash\\onedrive\\desktop\\developer projects\\sentiment-analysis-project\\sap-venv\\lib\\site-packages (from tensorflow) (25.0)\n",
      "Requirement already satisfied: protobuf>=5.28.0 in c:\\users\\shash\\onedrive\\desktop\\developer projects\\sentiment-analysis-project\\sap-venv\\lib\\site-packages (from tensorflow) (6.32.0)\n",
      "Requirement already satisfied: requests<3,>=2.21.0 in c:\\users\\shash\\onedrive\\desktop\\developer projects\\sentiment-analysis-project\\sap-venv\\lib\\site-packages (from tensorflow) (2.32.4)\n",
      "Requirement already satisfied: setuptools in c:\\users\\shash\\onedrive\\desktop\\developer projects\\sentiment-analysis-project\\sap-venv\\lib\\site-packages (from tensorflow) (80.9.0)\n",
      "Requirement already satisfied: six>=1.12.0 in c:\\users\\shash\\onedrive\\desktop\\developer projects\\sentiment-analysis-project\\sap-venv\\lib\\site-packages (from tensorflow) (1.17.0)\n",
      "Requirement already satisfied: termcolor>=1.1.0 in c:\\users\\shash\\onedrive\\desktop\\developer projects\\sentiment-analysis-project\\sap-venv\\lib\\site-packages (from tensorflow) (3.1.0)\n",
      "Requirement already satisfied: typing_extensions>=3.6.6 in c:\\users\\shash\\onedrive\\desktop\\developer projects\\sentiment-analysis-project\\sap-venv\\lib\\site-packages (from tensorflow) (4.14.1)\n",
      "Requirement already satisfied: wrapt>=1.11.0 in c:\\users\\shash\\onedrive\\desktop\\developer projects\\sentiment-analysis-project\\sap-venv\\lib\\site-packages (from tensorflow) (1.17.3)\n",
      "Requirement already satisfied: grpcio<2.0,>=1.24.3 in c:\\users\\shash\\onedrive\\desktop\\developer projects\\sentiment-analysis-project\\sap-venv\\lib\\site-packages (from tensorflow) (1.74.0)\n",
      "Requirement already satisfied: tensorboard~=2.20.0 in c:\\users\\shash\\onedrive\\desktop\\developer projects\\sentiment-analysis-project\\sap-venv\\lib\\site-packages (from tensorflow) (2.20.0)\n",
      "Requirement already satisfied: keras>=3.10.0 in c:\\users\\shash\\onedrive\\desktop\\developer projects\\sentiment-analysis-project\\sap-venv\\lib\\site-packages (from tensorflow) (3.11.2)\n",
      "Requirement already satisfied: numpy>=1.26.0 in c:\\users\\shash\\onedrive\\desktop\\developer projects\\sentiment-analysis-project\\sap-venv\\lib\\site-packages (from tensorflow) (2.3.2)\n",
      "Requirement already satisfied: h5py>=3.11.0 in c:\\users\\shash\\onedrive\\desktop\\developer projects\\sentiment-analysis-project\\sap-venv\\lib\\site-packages (from tensorflow) (3.14.0)\n",
      "Requirement already satisfied: ml_dtypes<1.0.0,>=0.5.1 in c:\\users\\shash\\onedrive\\desktop\\developer projects\\sentiment-analysis-project\\sap-venv\\lib\\site-packages (from tensorflow) (0.5.3)\n",
      "Requirement already satisfied: wheel<1.0,>=0.23.0 in c:\\users\\shash\\onedrive\\desktop\\developer projects\\sentiment-analysis-project\\sap-venv\\lib\\site-packages (from astunparse>=1.6.0->tensorflow) (0.45.1)\n",
      "Requirement already satisfied: rich in c:\\users\\shash\\onedrive\\desktop\\developer projects\\sentiment-analysis-project\\sap-venv\\lib\\site-packages (from keras>=3.10.0->tensorflow) (14.1.0)\n",
      "Requirement already satisfied: namex in c:\\users\\shash\\onedrive\\desktop\\developer projects\\sentiment-analysis-project\\sap-venv\\lib\\site-packages (from keras>=3.10.0->tensorflow) (0.1.0)\n",
      "Requirement already satisfied: optree in c:\\users\\shash\\onedrive\\desktop\\developer projects\\sentiment-analysis-project\\sap-venv\\lib\\site-packages (from keras>=3.10.0->tensorflow) (0.17.0)\n",
      "Requirement already satisfied: charset_normalizer<4,>=2 in c:\\users\\shash\\onedrive\\desktop\\developer projects\\sentiment-analysis-project\\sap-venv\\lib\\site-packages (from requests<3,>=2.21.0->tensorflow) (3.4.3)\n",
      "Requirement already satisfied: idna<4,>=2.5 in c:\\users\\shash\\onedrive\\desktop\\developer projects\\sentiment-analysis-project\\sap-venv\\lib\\site-packages (from requests<3,>=2.21.0->tensorflow) (3.10)\n",
      "Requirement already satisfied: urllib3<3,>=1.21.1 in c:\\users\\shash\\onedrive\\desktop\\developer projects\\sentiment-analysis-project\\sap-venv\\lib\\site-packages (from requests<3,>=2.21.0->tensorflow) (2.5.0)\n",
      "Requirement already satisfied: certifi>=2017.4.17 in c:\\users\\shash\\onedrive\\desktop\\developer projects\\sentiment-analysis-project\\sap-venv\\lib\\site-packages (from requests<3,>=2.21.0->tensorflow) (2025.8.3)\n",
      "Requirement already satisfied: markdown>=2.6.8 in c:\\users\\shash\\onedrive\\desktop\\developer projects\\sentiment-analysis-project\\sap-venv\\lib\\site-packages (from tensorboard~=2.20.0->tensorflow) (3.8.2)\n",
      "Requirement already satisfied: pillow in c:\\users\\shash\\onedrive\\desktop\\developer projects\\sentiment-analysis-project\\sap-venv\\lib\\site-packages (from tensorboard~=2.20.0->tensorflow) (11.3.0)\n",
      "Requirement already satisfied: tensorboard-data-server<0.8.0,>=0.7.0 in c:\\users\\shash\\onedrive\\desktop\\developer projects\\sentiment-analysis-project\\sap-venv\\lib\\site-packages (from tensorboard~=2.20.0->tensorflow) (0.7.2)\n",
      "Requirement already satisfied: werkzeug>=1.0.1 in c:\\users\\shash\\onedrive\\desktop\\developer projects\\sentiment-analysis-project\\sap-venv\\lib\\site-packages (from tensorboard~=2.20.0->tensorflow) (3.1.3)\n",
      "Requirement already satisfied: MarkupSafe>=2.1.1 in c:\\users\\shash\\onedrive\\desktop\\developer projects\\sentiment-analysis-project\\sap-venv\\lib\\site-packages (from werkzeug>=1.0.1->tensorboard~=2.20.0->tensorflow) (3.0.2)\n",
      "Requirement already satisfied: markdown-it-py>=2.2.0 in c:\\users\\shash\\onedrive\\desktop\\developer projects\\sentiment-analysis-project\\sap-venv\\lib\\site-packages (from rich->keras>=3.10.0->tensorflow) (4.0.0)\n",
      "Requirement already satisfied: pygments<3.0.0,>=2.13.0 in c:\\users\\shash\\onedrive\\desktop\\developer projects\\sentiment-analysis-project\\sap-venv\\lib\\site-packages (from rich->keras>=3.10.0->tensorflow) (2.19.2)\n",
      "Requirement already satisfied: mdurl~=0.1 in c:\\users\\shash\\onedrive\\desktop\\developer projects\\sentiment-analysis-project\\sap-venv\\lib\\site-packages (from markdown-it-py>=2.2.0->rich->keras>=3.10.0->tensorflow) (0.1.2)\n"
     ]
    },
    {
     "name": "stderr",
     "output_type": "stream",
     "text": [
      "\n",
      "[notice] A new release of pip is available: 24.2 -> 25.2\n",
      "[notice] To update, run: python.exe -m pip install --upgrade pip\n"
     ]
    }
   ],
   "source": [
    "!pip install tensorflow"
   ]
  },
  {
   "cell_type": "code",
   "execution_count": 96,
   "id": "896304f3-e50b-447a-9416-2db15c645c59",
   "metadata": {},
   "outputs": [],
   "source": [
    "\n",
    "from tensorflow import keras\n",
    "from tensorflow.keras.preprocessing.text import Tokenizer\n",
    "from tensorflow.keras.preprocessing.sequence import pad_sequences\n",
    "from tensorflow.keras.models import Sequential\n",
    "from tensorflow.keras.layers import Embedding, LSTM, Dense\n"
   ]
  },
  {
   "cell_type": "code",
   "execution_count": 97,
   "id": "b4d5d46a-67c3-461f-9b79-107d7407a50f",
   "metadata": {},
   "outputs": [
    {
     "name": "stdout",
     "output_type": "stream",
     "text": [
      "The tokenizer has learned a vocabulary of 84780 words.\n",
      "\n",
      "Example word-to-index mappings:\n",
      "movie -> 2\n",
      "film -> 3\n",
      "good -> 7\n",
      "bad -> 19\n"
     ]
    }
   ],
   "source": [
    "VOCAB_SIZE = 11000\n",
    "tokenizer = Tokenizer(num_words=VOCAB_SIZE, oov_token=\"<OOV>\")\n",
    "tokenizer.fit_on_texts(X_train)\n",
    "print(f\"The tokenizer has learned a vocabulary of {len(tokenizer.word_index)} words.\")\n",
    "\n",
    "# Let's see the mapping for a few common words.\n",
    "print(\"\\nExample word-to-index mappings:\")\n",
    "print(f\"movie -> {tokenizer.word_index.get('movie')}\")\n",
    "print(f\"film -> {tokenizer.word_index.get('film')}\")\n",
    "print(f\"good -> {tokenizer.word_index.get('good')}\")\n",
    "print(f\"bad -> {tokenizer.word_index.get('bad')}\")"
   ]
  },
  {
   "cell_type": "code",
   "execution_count": 98,
   "id": "68ef65d0-a3ac-47c0-a52f-f075cbd7849b",
   "metadata": {},
   "outputs": [
    {
     "name": "stdout",
     "output_type": "stream",
     "text": [
      "--- Original Text Review (from X_train) ---\n",
      "caught little gem totally accident back 1980 81 revival theatre see two old silly sci fi movie theatre packed full warning showed bunch sci fi short spoof get u mood somewhat amusing came within second audience hysteric biggest laugh came showed princess laia huge cinnamon bun instead hair head look camera give grim smile nod made even funnier gotta see chewabacca played look like muppet extremely silly stupid stop laughing dialogue drowned laughter also know star war pretty well even funnier deliberately poke fun dialogue really work audience definite 10\n",
      "\n",
      "--- Same Review Converted to an Integer Sequence ---\n",
      "[918, 47, 1150, 352, 1368, 61, 2537, 1, 7854, 1317, 13, 35, 70, 543, 735, 728, 2, 1317, 2591, 258, 1494, 1116, 622, 735, 728, 215, 1917, 12, 75, 1035, 540, 997, 280, 625, 190, 156, 1, 978, 206, 280, 1116, 2489, 1, 521, 1, 1, 198, 963, 248, 44, 231, 60, 2990, 1444, 3709, 27, 10, 2490, 2971, 13, 1, 161, 44, 5, 4018, 462, 543, 260, 382, 892, 284, 7778, 1936, 22, 32, 94, 165, 93, 17, 10, 2490, 3965, 5607, 147, 284, 15, 53, 156, 3315, 74]\n"
     ]
    }
   ],
   "source": [
    "X_train_sequences = tokenizer.texts_to_sequences(X_train)\n",
    "#converts text sequence to integer sequence\n",
    "X_test_sequences = tokenizer.texts_to_sequences(X_test)\n",
    "print(\"--- Original Text Review (from X_train) ---\")\n",
    "print(X_train.iloc[0])\n",
    "print(\"\\n--- Same Review Converted to an Integer Sequence ---\")\n",
    "print(X_train_sequences[0])"
   ]
  },
  {
   "cell_type": "code",
   "execution_count": 99,
   "id": "a62b32c9-11b6-4c43-b5e4-9cc8b4dfde0e",
   "metadata": {},
   "outputs": [
    {
     "name": "stdout",
     "output_type": "stream",
     "text": [
      "\n",
      "--- Verifying Sequence Lengths ---\n",
      "Length of first training sequence: 90\n",
      "Length of second training sequence: 88\n",
      "Length of first testing sequence: 70\n"
     ]
    }
   ],
   "source": [
    "print(\"\\n--- Verifying Sequence Lengths ---\")\n",
    "print(f\"Length of first training sequence: {len(X_train_sequences[0])}\")\n",
    "print(f\"Length of second training sequence: {len(X_train_sequences[1])}\")\n",
    "print(f\"Length of first testing sequence: {len(X_test_sequences[0])}\")"
   ]
  },
  {
   "cell_type": "code",
   "execution_count": 100,
   "id": "5c0e88eb-36cf-4cb3-a48b-be57d4554e23",
   "metadata": {},
   "outputs": [
    {
     "name": "stdout",
     "output_type": "stream",
     "text": [
      "--- Shape of Padded Data ---\n",
      "Shape of X_train_padded: (40000, 200)\n",
      "Shape of X_test_padded: (10000, 200)\n",
      "\n",
      "--- Example of a Padded Sequence (from X_train_padded) ---\n",
      "[ 918   47 1150  352 1368   61 2537    1 7854 1317   13   35   70  543\n",
      "  735  728    2 1317 2591  258 1494 1116  622  735  728  215 1917   12\n",
      "   75 1035  540  997  280  625  190  156    1  978  206  280 1116 2489\n",
      "    1  521    1    1  198  963  248   44  231   60 2990 1444 3709   27\n",
      "   10 2490 2971   13    1  161   44    5 4018  462  543  260  382  892\n",
      "  284 7778 1936   22   32   94  165   93   17   10 2490 3965 5607  147\n",
      "  284   15   53  156 3315   74    0    0    0    0    0    0    0    0\n",
      "    0    0    0    0    0    0    0    0    0    0    0    0    0    0\n",
      "    0    0    0    0    0    0    0    0    0    0    0    0    0    0\n",
      "    0    0    0    0    0    0    0    0    0    0    0    0    0    0\n",
      "    0    0    0    0    0    0    0    0    0    0    0    0    0    0\n",
      "    0    0    0    0    0    0    0    0    0    0    0    0    0    0\n",
      "    0    0    0    0    0    0    0    0    0    0    0    0    0    0\n",
      "    0    0    0    0    0    0    0    0    0    0    0    0    0    0\n",
      "    0    0    0    0]\n"
     ]
    }
   ],
   "source": [
    "MAX_LEN = 200\n",
    "X_train_padded = pad_sequences(X_train_sequences, maxlen=MAX_LEN, padding='post', truncating='post')\n",
    "X_test_padded = pad_sequences(X_test_sequences, maxlen=MAX_LEN, padding='post', truncating='post')\n",
    "print(\"--- Shape of Padded Data ---\")\n",
    "print(\"Shape of X_train_padded:\", X_train_padded.shape)\n",
    "print(\"Shape of X_test_padded:\", X_test_padded.shape)\n",
    "print(\"\\n--- Example of a Padded Sequence (from X_train_padded) ---\")\n",
    "print(X_train_padded[0])"
   ]
  },
  {
   "cell_type": "code",
   "execution_count": 101,
   "id": "1a019518-6f1d-405d-b7a8-97926ac17a8a",
   "metadata": {},
   "outputs": [
    {
     "name": "stdout",
     "output_type": "stream",
     "text": [
      "\n",
      "--- Converted Numerical Labels (from y_train_final) ---\n",
      "47808    1\n",
      "20154    0\n",
      "43069    0\n",
      "19413    0\n",
      "13673    0\n",
      "Name: sentiment, dtype: int64\n"
     ]
    }
   ],
   "source": [
    "label_mapping = {'positive': 1, 'negative': 0}\n",
    "y_train_final = y_train.map(label_mapping)\n",
    "y_test_final = y_test.map(label_mapping)\n",
    "print(\"\\n--- Converted Numerical Labels (from y_train_final) ---\")\n",
    "print(y_train_final.head())"
   ]
  },
  {
   "cell_type": "code",
   "execution_count": 109,
   "id": "876a4d7d-eacc-4354-a9f1-4cbf9ad5b404",
   "metadata": {},
   "outputs": [
    {
     "name": "stdout",
     "output_type": "stream",
     "text": [
      "Final model summary:\n"
     ]
    },
    {
     "data": {
      "text/html": [
       "<pre style=\"white-space:pre;overflow-x:auto;line-height:normal;font-family:Menlo,'DejaVu Sans Mono',consolas,'Courier New',monospace\"><span style=\"font-weight: bold\">Model: \"sequential_16\"</span>\n",
       "</pre>\n"
      ],
      "text/plain": [
       "\u001b[1mModel: \"sequential_16\"\u001b[0m\n"
      ]
     },
     "metadata": {},
     "output_type": "display_data"
    },
    {
     "data": {
      "text/html": [
       "<pre style=\"white-space:pre;overflow-x:auto;line-height:normal;font-family:Menlo,'DejaVu Sans Mono',consolas,'Courier New',monospace\">┏━━━━━━━━━━━━━━━━━━━━━━━━━━━━━━━━━━━━━━┳━━━━━━━━━━━━━━━━━━━━━━━━━━━━━┳━━━━━━━━━━━━━━━━━┓\n",
       "┃<span style=\"font-weight: bold\"> Layer (type)                         </span>┃<span style=\"font-weight: bold\"> Output Shape                </span>┃<span style=\"font-weight: bold\">         Param # </span>┃\n",
       "┡━━━━━━━━━━━━━━━━━━━━━━━━━━━━━━━━━━━━━━╇━━━━━━━━━━━━━━━━━━━━━━━━━━━━━╇━━━━━━━━━━━━━━━━━┩\n",
       "│ embedding_16 (<span style=\"color: #0087ff; text-decoration-color: #0087ff\">Embedding</span>)             │ (<span style=\"color: #00d7ff; text-decoration-color: #00d7ff\">None</span>, <span style=\"color: #00af00; text-decoration-color: #00af00\">200</span>, <span style=\"color: #00af00; text-decoration-color: #00af00\">128</span>)            │       <span style=\"color: #00af00; text-decoration-color: #00af00\">1,408,000</span> │\n",
       "├──────────────────────────────────────┼─────────────────────────────┼─────────────────┤\n",
       "│ lstm_11 (<span style=\"color: #0087ff; text-decoration-color: #0087ff\">LSTM</span>)                       │ (<span style=\"color: #00d7ff; text-decoration-color: #00d7ff\">None</span>, <span style=\"color: #00af00; text-decoration-color: #00af00\">64</span>)                  │          <span style=\"color: #00af00; text-decoration-color: #00af00\">49,408</span> │\n",
       "├──────────────────────────────────────┼─────────────────────────────┼─────────────────┤\n",
       "│ dense_9 (<span style=\"color: #0087ff; text-decoration-color: #0087ff\">Dense</span>)                      │ (<span style=\"color: #00d7ff; text-decoration-color: #00d7ff\">None</span>, <span style=\"color: #00af00; text-decoration-color: #00af00\">1</span>)                   │              <span style=\"color: #00af00; text-decoration-color: #00af00\">65</span> │\n",
       "└──────────────────────────────────────┴─────────────────────────────┴─────────────────┘\n",
       "</pre>\n"
      ],
      "text/plain": [
       "┏━━━━━━━━━━━━━━━━━━━━━━━━━━━━━━━━━━━━━━┳━━━━━━━━━━━━━━━━━━━━━━━━━━━━━┳━━━━━━━━━━━━━━━━━┓\n",
       "┃\u001b[1m \u001b[0m\u001b[1mLayer (type)                        \u001b[0m\u001b[1m \u001b[0m┃\u001b[1m \u001b[0m\u001b[1mOutput Shape               \u001b[0m\u001b[1m \u001b[0m┃\u001b[1m \u001b[0m\u001b[1m        Param #\u001b[0m\u001b[1m \u001b[0m┃\n",
       "┡━━━━━━━━━━━━━━━━━━━━━━━━━━━━━━━━━━━━━━╇━━━━━━━━━━━━━━━━━━━━━━━━━━━━━╇━━━━━━━━━━━━━━━━━┩\n",
       "│ embedding_16 (\u001b[38;5;33mEmbedding\u001b[0m)             │ (\u001b[38;5;45mNone\u001b[0m, \u001b[38;5;34m200\u001b[0m, \u001b[38;5;34m128\u001b[0m)            │       \u001b[38;5;34m1,408,000\u001b[0m │\n",
       "├──────────────────────────────────────┼─────────────────────────────┼─────────────────┤\n",
       "│ lstm_11 (\u001b[38;5;33mLSTM\u001b[0m)                       │ (\u001b[38;5;45mNone\u001b[0m, \u001b[38;5;34m64\u001b[0m)                  │          \u001b[38;5;34m49,408\u001b[0m │\n",
       "├──────────────────────────────────────┼─────────────────────────────┼─────────────────┤\n",
       "│ dense_9 (\u001b[38;5;33mDense\u001b[0m)                      │ (\u001b[38;5;45mNone\u001b[0m, \u001b[38;5;34m1\u001b[0m)                   │              \u001b[38;5;34m65\u001b[0m │\n",
       "└──────────────────────────────────────┴─────────────────────────────┴─────────────────┘\n"
      ]
     },
     "metadata": {},
     "output_type": "display_data"
    },
    {
     "data": {
      "text/html": [
       "<pre style=\"white-space:pre;overflow-x:auto;line-height:normal;font-family:Menlo,'DejaVu Sans Mono',consolas,'Courier New',monospace\"><span style=\"font-weight: bold\"> Total params: </span><span style=\"color: #00af00; text-decoration-color: #00af00\">1,457,473</span> (5.56 MB)\n",
       "</pre>\n"
      ],
      "text/plain": [
       "\u001b[1m Total params: \u001b[0m\u001b[38;5;34m1,457,473\u001b[0m (5.56 MB)\n"
      ]
     },
     "metadata": {},
     "output_type": "display_data"
    },
    {
     "data": {
      "text/html": [
       "<pre style=\"white-space:pre;overflow-x:auto;line-height:normal;font-family:Menlo,'DejaVu Sans Mono',consolas,'Courier New',monospace\"><span style=\"font-weight: bold\"> Trainable params: </span><span style=\"color: #00af00; text-decoration-color: #00af00\">1,457,473</span> (5.56 MB)\n",
       "</pre>\n"
      ],
      "text/plain": [
       "\u001b[1m Trainable params: \u001b[0m\u001b[38;5;34m1,457,473\u001b[0m (5.56 MB)\n"
      ]
     },
     "metadata": {},
     "output_type": "display_data"
    },
    {
     "data": {
      "text/html": [
       "<pre style=\"white-space:pre;overflow-x:auto;line-height:normal;font-family:Menlo,'DejaVu Sans Mono',consolas,'Courier New',monospace\"><span style=\"font-weight: bold\"> Non-trainable params: </span><span style=\"color: #00af00; text-decoration-color: #00af00\">0</span> (0.00 B)\n",
       "</pre>\n"
      ],
      "text/plain": [
       "\u001b[1m Non-trainable params: \u001b[0m\u001b[38;5;34m0\u001b[0m (0.00 B)\n"
      ]
     },
     "metadata": {},
     "output_type": "display_data"
    }
   ],
   "source": [
    "VOCAB_SIZE = 11000\n",
    "MAX_LEN = 200\n",
    "EMBEDDING_DIM = 128\n",
    "LSTM_UNITS = 64\n",
    "model = Sequential()\n",
    "#adding embedding layer of neural network\n",
    "model.add(Embedding(input_dim=VOCAB_SIZE, output_dim=EMBEDDING_DIM, input_shape=(MAX_LEN,)))\n",
    "# adding lstm layer of neural network\n",
    "model.add(LSTM(units=LSTM_UNITS, dropout=0.2, recurrent_dropout=0.2))\n",
    "# adding dense layer\n",
    "model.add(Dense(units=1, activation='sigmoid'))\n",
    "print(\"Final model summary:\")\n",
    "model.summary()"
   ]
  },
  {
   "cell_type": "code",
   "execution_count": 111,
   "id": "06b63a32-2300-4ece-a9cf-192008949d38",
   "metadata": {},
   "outputs": [
    {
     "name": "stdout",
     "output_type": "stream",
     "text": [
      "Model has been successfully compiled and is ready for training.\n"
     ]
    },
    {
     "data": {
      "text/html": [
       "<pre style=\"white-space:pre;overflow-x:auto;line-height:normal;font-family:Menlo,'DejaVu Sans Mono',consolas,'Courier New',monospace\"><span style=\"font-weight: bold\">Model: \"sequential_16\"</span>\n",
       "</pre>\n"
      ],
      "text/plain": [
       "\u001b[1mModel: \"sequential_16\"\u001b[0m\n"
      ]
     },
     "metadata": {},
     "output_type": "display_data"
    },
    {
     "data": {
      "text/html": [
       "<pre style=\"white-space:pre;overflow-x:auto;line-height:normal;font-family:Menlo,'DejaVu Sans Mono',consolas,'Courier New',monospace\">┏━━━━━━━━━━━━━━━━━━━━━━━━━━━━━━━━━━━━━━┳━━━━━━━━━━━━━━━━━━━━━━━━━━━━━┳━━━━━━━━━━━━━━━━━┓\n",
       "┃<span style=\"font-weight: bold\"> Layer (type)                         </span>┃<span style=\"font-weight: bold\"> Output Shape                </span>┃<span style=\"font-weight: bold\">         Param # </span>┃\n",
       "┡━━━━━━━━━━━━━━━━━━━━━━━━━━━━━━━━━━━━━━╇━━━━━━━━━━━━━━━━━━━━━━━━━━━━━╇━━━━━━━━━━━━━━━━━┩\n",
       "│ embedding_16 (<span style=\"color: #0087ff; text-decoration-color: #0087ff\">Embedding</span>)             │ (<span style=\"color: #00d7ff; text-decoration-color: #00d7ff\">None</span>, <span style=\"color: #00af00; text-decoration-color: #00af00\">200</span>, <span style=\"color: #00af00; text-decoration-color: #00af00\">128</span>)            │       <span style=\"color: #00af00; text-decoration-color: #00af00\">1,408,000</span> │\n",
       "├──────────────────────────────────────┼─────────────────────────────┼─────────────────┤\n",
       "│ lstm_11 (<span style=\"color: #0087ff; text-decoration-color: #0087ff\">LSTM</span>)                       │ (<span style=\"color: #00d7ff; text-decoration-color: #00d7ff\">None</span>, <span style=\"color: #00af00; text-decoration-color: #00af00\">64</span>)                  │          <span style=\"color: #00af00; text-decoration-color: #00af00\">49,408</span> │\n",
       "├──────────────────────────────────────┼─────────────────────────────┼─────────────────┤\n",
       "│ dense_9 (<span style=\"color: #0087ff; text-decoration-color: #0087ff\">Dense</span>)                      │ (<span style=\"color: #00d7ff; text-decoration-color: #00d7ff\">None</span>, <span style=\"color: #00af00; text-decoration-color: #00af00\">1</span>)                   │              <span style=\"color: #00af00; text-decoration-color: #00af00\">65</span> │\n",
       "└──────────────────────────────────────┴─────────────────────────────┴─────────────────┘\n",
       "</pre>\n"
      ],
      "text/plain": [
       "┏━━━━━━━━━━━━━━━━━━━━━━━━━━━━━━━━━━━━━━┳━━━━━━━━━━━━━━━━━━━━━━━━━━━━━┳━━━━━━━━━━━━━━━━━┓\n",
       "┃\u001b[1m \u001b[0m\u001b[1mLayer (type)                        \u001b[0m\u001b[1m \u001b[0m┃\u001b[1m \u001b[0m\u001b[1mOutput Shape               \u001b[0m\u001b[1m \u001b[0m┃\u001b[1m \u001b[0m\u001b[1m        Param #\u001b[0m\u001b[1m \u001b[0m┃\n",
       "┡━━━━━━━━━━━━━━━━━━━━━━━━━━━━━━━━━━━━━━╇━━━━━━━━━━━━━━━━━━━━━━━━━━━━━╇━━━━━━━━━━━━━━━━━┩\n",
       "│ embedding_16 (\u001b[38;5;33mEmbedding\u001b[0m)             │ (\u001b[38;5;45mNone\u001b[0m, \u001b[38;5;34m200\u001b[0m, \u001b[38;5;34m128\u001b[0m)            │       \u001b[38;5;34m1,408,000\u001b[0m │\n",
       "├──────────────────────────────────────┼─────────────────────────────┼─────────────────┤\n",
       "│ lstm_11 (\u001b[38;5;33mLSTM\u001b[0m)                       │ (\u001b[38;5;45mNone\u001b[0m, \u001b[38;5;34m64\u001b[0m)                  │          \u001b[38;5;34m49,408\u001b[0m │\n",
       "├──────────────────────────────────────┼─────────────────────────────┼─────────────────┤\n",
       "│ dense_9 (\u001b[38;5;33mDense\u001b[0m)                      │ (\u001b[38;5;45mNone\u001b[0m, \u001b[38;5;34m1\u001b[0m)                   │              \u001b[38;5;34m65\u001b[0m │\n",
       "└──────────────────────────────────────┴─────────────────────────────┴─────────────────┘\n"
      ]
     },
     "metadata": {},
     "output_type": "display_data"
    },
    {
     "data": {
      "text/html": [
       "<pre style=\"white-space:pre;overflow-x:auto;line-height:normal;font-family:Menlo,'DejaVu Sans Mono',consolas,'Courier New',monospace\"><span style=\"font-weight: bold\"> Total params: </span><span style=\"color: #00af00; text-decoration-color: #00af00\">1,457,473</span> (5.56 MB)\n",
       "</pre>\n"
      ],
      "text/plain": [
       "\u001b[1m Total params: \u001b[0m\u001b[38;5;34m1,457,473\u001b[0m (5.56 MB)\n"
      ]
     },
     "metadata": {},
     "output_type": "display_data"
    },
    {
     "data": {
      "text/html": [
       "<pre style=\"white-space:pre;overflow-x:auto;line-height:normal;font-family:Menlo,'DejaVu Sans Mono',consolas,'Courier New',monospace\"><span style=\"font-weight: bold\"> Trainable params: </span><span style=\"color: #00af00; text-decoration-color: #00af00\">1,457,473</span> (5.56 MB)\n",
       "</pre>\n"
      ],
      "text/plain": [
       "\u001b[1m Trainable params: \u001b[0m\u001b[38;5;34m1,457,473\u001b[0m (5.56 MB)\n"
      ]
     },
     "metadata": {},
     "output_type": "display_data"
    },
    {
     "data": {
      "text/html": [
       "<pre style=\"white-space:pre;overflow-x:auto;line-height:normal;font-family:Menlo,'DejaVu Sans Mono',consolas,'Courier New',monospace\"><span style=\"font-weight: bold\"> Non-trainable params: </span><span style=\"color: #00af00; text-decoration-color: #00af00\">0</span> (0.00 B)\n",
       "</pre>\n"
      ],
      "text/plain": [
       "\u001b[1m Non-trainable params: \u001b[0m\u001b[38;5;34m0\u001b[0m (0.00 B)\n"
      ]
     },
     "metadata": {},
     "output_type": "display_data"
    }
   ],
   "source": [
    "#compiling the model to make it ready for training and easy understandability for user\n",
    "model.compile(optimizer='adam', loss='binary_crossentropy', metrics=['accuracy'])\n",
    "print(\"Model has been successfully compiled and is ready for training.\")\n",
    "model.summary()"
   ]
  },
  {
   "cell_type": "code",
   "execution_count": 112,
   "id": "26b2b6cf-5c71-4e88-87c4-3139e9cb9722",
   "metadata": {},
   "outputs": [
    {
     "name": "stdout",
     "output_type": "stream",
     "text": [
      "Epoch 1/5\n",
      "\u001b[1m625/625\u001b[0m \u001b[32m━━━━━━━━━━━━━━━━━━━━\u001b[0m\u001b[37m\u001b[0m \u001b[1m69s\u001b[0m 107ms/step - accuracy: 0.5138 - loss: 0.6912 - val_accuracy: 0.5467 - val_loss: 0.6750\n",
      "Epoch 2/5\n",
      "\u001b[1m625/625\u001b[0m \u001b[32m━━━━━━━━━━━━━━━━━━━━\u001b[0m\u001b[37m\u001b[0m \u001b[1m64s\u001b[0m 103ms/step - accuracy: 0.5453 - loss: 0.6615 - val_accuracy: 0.5527 - val_loss: 0.6614\n",
      "Epoch 3/5\n",
      "\u001b[1m625/625\u001b[0m \u001b[32m━━━━━━━━━━━━━━━━━━━━\u001b[0m\u001b[37m\u001b[0m \u001b[1m69s\u001b[0m 111ms/step - accuracy: 0.6618 - loss: 0.5884 - val_accuracy: 0.7972 - val_loss: 0.4914\n",
      "Epoch 4/5\n",
      "\u001b[1m625/625\u001b[0m \u001b[32m━━━━━━━━━━━━━━━━━━━━\u001b[0m\u001b[37m\u001b[0m \u001b[1m68s\u001b[0m 109ms/step - accuracy: 0.8531 - loss: 0.3724 - val_accuracy: 0.8649 - val_loss: 0.3306\n",
      "Epoch 5/5\n",
      "\u001b[1m625/625\u001b[0m \u001b[32m━━━━━━━━━━━━━━━━━━━━\u001b[0m\u001b[37m\u001b[0m \u001b[1m69s\u001b[0m 110ms/step - accuracy: 0.9050 - loss: 0.2604 - val_accuracy: 0.8768 - val_loss: 0.3145\n",
      "\n",
      "Model training complete!\n"
     ]
    }
   ],
   "source": [
    "EPOCHS = 5\n",
    "BATCH_SIZE = 64\n",
    "history = model.fit(X_train_padded, y_train_final, epochs=EPOCHS, batch_size=BATCH_SIZE, validation_data=(X_test_padded, y_test_final))\n",
    "print(\"\\nModel training complete!\")"
   ]
  },
  {
   "cell_type": "code",
   "execution_count": 113,
   "id": "79376176-f7bb-4e4b-81ec-2a02cc83e6f3",
   "metadata": {},
   "outputs": [
    {
     "name": "stdout",
     "output_type": "stream",
     "text": [
      "Keys available in history object: dict_keys(['accuracy', 'loss', 'val_accuracy', 'val_loss'])\n"
     ]
    },
    {
     "data": {
      "image/png": "[encoded data removed]",
      "text/plain": [
       "<Figure size 1200x600 with 1 Axes>"
      ]
     },
     "metadata": {},
     "output_type": "display_data"
    },
    {
     "data": {
      "image/png": "[encoded data removed]",
      "text/plain": [
       "<Figure size 1200x600 with 1 Axes>"
      ]
     },
     "metadata": {},
     "output_type": "display_data"
    }
   ],
   "source": [
    "history_dict = history.history\n",
    "print(\"Keys available in history object:\", history_dict.keys())\n",
    "acc = history_dict['accuracy']\n",
    "val_acc = history_dict['val_accuracy']\n",
    "loss = history_dict['loss']\n",
    "val_loss = history_dict['val_loss']\n",
    "epochs = range(1, len(acc) + 1)\n",
    "plt.figure(figsize=(12, 6))\n",
    "plt.plot(epochs, acc, 'bo', label='Training accuracy')\n",
    "plt.plot(epochs, val_acc, 'b', label='Validation accuracy')\n",
    "plt.title('Training and Validation Accuracy')\n",
    "plt.xlabel('Epochs')\n",
    "plt.ylabel('Accuracy')\n",
    "plt.legend()\n",
    "plt.show()\n",
    "plt.figure(figsize=(12, 6))\n",
    "plt.plot(epochs, loss, 'ro', label='Training loss')\n",
    "plt.plot(epochs, val_loss, 'r', label='Validation loss')\n",
    "plt.title('Training and Validation Loss')\n",
    "plt.xlabel('Epochs')\n",
    "plt.ylabel('Loss')\n",
    "plt.legend()\n",
    "plt.show()"
   ]
  },
  {
   "cell_type": "code",
   "execution_count": null,
   "id": "20eb6d33-948e-4481-80b8-48eef48ba1ba",
   "metadata": {},
   "outputs": [],
   "source": []
  }
 ],
 "metadata": {
  "kernelspec": {
   "display_name": "Python 3 (ipykernel)",
   "language": "python",
   "name": "python3"
  },
  "language_info": {
   "codemirror_mode": {
    "name": "ipython",
    "version": 3
   },
   "file_extension": ".py",
   "mimetype": "text/x-python",
   "name": "python",
   "nbconvert_exporter": "python",
   "pygments_lexer": "ipython3",
   "version": "3.12.7"
  }
 },
 "nbformat": 4,
 "nbformat_minor": 5
}
